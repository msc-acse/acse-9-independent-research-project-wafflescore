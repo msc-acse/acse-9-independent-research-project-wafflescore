{
 "cells": [
  {
   "cell_type": "markdown",
   "metadata": {},
   "source": [
    "# This is the notebook to preprocess the data."
   ]
  },
  {
   "cell_type": "code",
   "execution_count": 39,
   "metadata": {},
   "outputs": [
    {
     "name": "stdout",
     "output_type": "stream",
     "text": [
      "The autoreload extension is already loaded. To reload it, use:\n",
      "  %reload_ext autoreload\n"
     ]
    }
   ],
   "source": [
    "%load_ext autoreload\n",
    "%autoreload 2\n",
    "\n",
    "import sys\n",
    "sys.path.append(\"..\")\n",
    "\n",
    "from acse_9_irp_wafflescore import dataPreprocessing as dp\n",
    "from scipy.ndimage import gaussian_filter\n",
    "import numpy as np\n",
    "\n",
    "import logging\n",
    "import sys\n",
    "\n",
    "logging.basicConfig(format='%(asctime)s | %(levelname)s : %(message)s',\n",
    "                     level=logging.INFO, stream=sys.stdout)"
   ]
  },
  {
   "cell_type": "markdown",
   "metadata": {},
   "source": [
    "The user can specify which data files/model to use here, the if/else statement were used for easier management.\n",
    "For future usage, additional model name and input files can be added.\n",
    "\n",
    "The input files in this stage were generated from Dr. Michele Paulatto, the script to generate those files are located in the Synthetic model folder in the Github repository."
   ]
  },
  {
   "cell_type": "code",
   "execution_count": 40,
   "metadata": {},
   "outputs": [],
   "source": [
    "# name of the model for easier reference\n",
    "model = 'M1'\n",
    "# the title of each column's variable\n",
    "col_name = ['vp', 'vs', 'dn', 'vp/vs', 'qp', 'qs', 'x', 'z']\n"
   ]
  },
  {
   "cell_type": "code",
   "execution_count": 41,
   "metadata": {},
   "outputs": [],
   "source": [
    "# load needed files\n",
    "if(model == 'M1'):\n",
    "    # Original Earth Model\n",
    "    input_npz = np.load('../Synthetic Model/input_fields.npz')\n",
    "    output_smooth_npz = np.load('../Synthetic Model/output_fields_smooth.npz')\n",
    "    output_npz = np.load('../Synthetic Model/output_fields.npz')\n",
    "elif(model == 'M5a'):\n",
    "    # Simplified Earth Model\n",
    "    input_npz = np.load('../Synthetic Model/Model5a/input_fields.npz')\n",
    "    output_smooth_npz = np.load('../Synthetic Model/Model5a/output_fields_smooth.npz')\n",
    "    output_npz = np.load('../Synthetic Model/Model5a/output_fields.npz')\n",
    "elif(model == 'M5b'):\n",
    "    # Simplified Earth Model -- less temperature anomaly\n",
    "    input_npz = np.load('../Synthetic Model/Model5b/input_fields.npz')\n",
    "    output_smooth_npz = np.load('../Synthetic Model/Model5b/output_fields_smooth.npz')\n",
    "    output_npz = np.load('../Synthetic Model/Model5b/output_fields.npz')\n",
    "else:\n",
    "    # invalid model\n",
    "    print('Invalid model', model)"
   ]
  },
  {
   "cell_type": "code",
   "execution_count": 49,
   "metadata": {},
   "outputs": [
    {
     "name": "stdout",
     "output_type": "stream",
     "text": [
      "2019-08-28 01:16:22,380 | INFO : Initial Data as numpy saved at: ../data/M1_init_data.npy\n",
      "2019-08-28 01:16:22,383 | INFO : Initial label as numpy saved at: ../data/M1_init_label.npy\n",
      "2019-08-28 01:16:22,385 | INFO : Replacing INF with -9999\n",
      "2019-08-28 01:16:22,394 | INFO : Data saved at: ../data/M1_clean_data.npy\n",
      "2019-08-28 01:16:22,397 | INFO : Data label saved at: ../data/M1_data_label.npy\n",
      "2019-08-28 01:16:22,402 | INFO : XZ positions saved at: ../data/M1_xz_pos.npy\n"
     ]
    }
   ],
   "source": [
    "# convert npz into 1d, 2d numpy\n",
    "init_label = dp.convLabel(input_npz['classes'])\n",
    "init_data = dp.convData(output_smooth_npz)\n",
    "\n",
    "# remove water and perform data preprocessing\n",
    "water_idx = np.where(init_label == 0)\n",
    "label = np.delete(init_label, water_idx)\n",
    "data = np.delete(init_data, water_idx, axis=0)\n",
    "\n",
    "fdir = '../data/' + model + '_init_data.npy'\n",
    "np.save(fdir, data)\n",
    "logging.info('Initial Data as numpy saved at: %s' % fdir)\n",
    "\n",
    "fdir = '../data/' + model + '_init_label.npy'\n",
    "np.save(fdir, label)\n",
    "logging.info('Initial label as numpy saved at: %s' % fdir)\n",
    "\n",
    "data = dp.data_cleanup(data, col_name, re_inf=-9999)\n",
    "logging.debug(\"Water removed shape: (%d, %d)\" %\n",
    "              (data.shape[0], data.shape[1]))\n",
    "\n",
    "if (model):\n",
    "    fdir = '../data/' + model + '_clean_data.npy'\n",
    "    np.save(fdir, data)\n",
    "    logging.info('Data saved at: %s' % fdir)\n",
    "\n",
    "    fdir = '../data/' + model + '_data_label.npy'\n",
    "    np.save(fdir, label)\n",
    "    logging.info('Data label saved at: %s' % fdir)\n",
    "\n",
    "    fdir = '../data/' + model + '_xz_pos.npy'\n",
    "    np.save(fdir, data[:, -2:])\n",
    "    logging.info('XZ positions saved at: %s' % fdir)"
   ]
  }
 ],
 "metadata": {
  "kernelspec": {
   "display_name": "Python 3",
   "language": "python",
   "name": "python3"
  },
  "language_info": {
   "codemirror_mode": {
    "name": "ipython",
    "version": 3
   },
   "file_extension": ".py",
   "mimetype": "text/x-python",
   "name": "python",
   "nbconvert_exporter": "python",
   "pygments_lexer": "ipython3",
   "version": "3.6.5"
  }
 },
 "nbformat": 4,
 "nbformat_minor": 2
}
